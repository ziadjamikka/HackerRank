{
  "cells": [
    {
      "cell_type": "markdown",
      "metadata": {
        "id": "JIX9shev5qME"
      },
      "source": [
        "#  all my sub in hackerrank"
      ]
    },
    {
      "cell_type": "markdown",
      "metadata": {
        "id": "rxzeb7U98U47"
      },
      "source": [
        "Say \"Hello, World!\" With Python"
      ]
    },
    {
      "cell_type": "code",
      "execution_count": 1,
      "metadata": {},
      "outputs": [
        {
          "name": "stdout",
          "output_type": "stream",
          "text": [
            "Hello, World!\n"
          ]
        }
      ],
      "source": [
        "my_string = \"Hello, World!\"\n",
        "print(my_string)"
      ]
    },
    {
      "cell_type": "markdown",
      "metadata": {
        "id": "EQPvgXIX8X87"
      },
      "source": [
        "Python If-Else\n",
        "Task\n",
        "Given an integer, , perform the following conditional actions:\n",
        "\n",
        "If  is odd, print Weird\n",
        "If  is even and in the inclusive range of  to , print Not Weird\n",
        "If  is even and in the inclusive range of  to , print Weird\n",
        "If  is even and greater than , print Not Weird\n",
        "Input Format\n",
        "\n",
        "A single line containing a positive integer, .\n",
        "\n",
        "Constraints\n",
        "\n",
        "Output Format\n",
        "\n",
        "Print Weird if the number is weird. Otherwise, print Not Weird."
      ]
    },
    {
      "cell_type": "code",
      "execution_count": 2,
      "metadata": {},
      "outputs": [
        {
          "name": "stdout",
          "output_type": "stream",
          "text": [
            "Not Weird\n"
          ]
        }
      ],
      "source": [
        "# Read input\n",
        "n = int(input().strip())\n",
        "\n",
        "# Conditional logic\n",
        "if n % 2 == 1:\n",
        "    print(\"Weird\")\n",
        "elif 2 <= n <= 5:\n",
        "    print(\"Not Weird\")\n",
        "elif 6 <= n <= 20:\n",
        "    print(\"Weird\")\n",
        "else:  # n > 20\n",
        "    print(\"Not Weird\")\n"
      ]
    },
    {
      "cell_type": "markdown",
      "metadata": {
        "id": "W_m3FN138bJP"
      },
      "source": [
        "Arithmetic Operators\n",
        "Task\n",
        "The provided code stub reads two integers from STDIN,  and . Add code to print three lines where:\n",
        "\n",
        "The first line contains the sum of the two numbers.\n",
        "The second line contains the difference of the two numbers (first - second).\n",
        "The third line contains the product of the two numbers."
      ]
    },
    {
      "cell_type": "code",
      "execution_count": 3,
      "metadata": {},
      "outputs": [
        {
          "name": "stdout",
          "output_type": "stream",
          "text": [
            "12\n",
            "8\n",
            "20\n"
          ]
        }
      ],
      "source": [
        "# Read input\n",
        "a = int(input())\n",
        "b = int(input())\n",
        "\n",
        "# Print the results\n",
        "print(a + b)   # Sum\n",
        "print(a - b)   # Difference\n",
        "print(a * b)   # Product\n"
      ]
    },
    {
      "cell_type": "markdown",
      "metadata": {
        "id": "fRMwGNG_8d-U"
      },
      "source": [
        "Loops\n",
        "Task\n",
        "The provided code stub reads an integer, , from STDIN. For all non-negative integers , print .\n",
        "\n",
        "Example\n",
        "\n",
        "The list of non-negative integers that are less than  is . Print the square of each number on a separate line."
      ]
    },
    {
      "cell_type": "code",
      "execution_count": 4,
      "metadata": {},
      "outputs": [
        {
          "name": "stdout",
          "output_type": "stream",
          "text": [
            "0\n",
            "1\n",
            "4\n",
            "9\n",
            "16\n",
            "25\n",
            "36\n",
            "49\n",
            "64\n",
            "81\n"
          ]
        }
      ],
      "source": [
        "# Read input\n",
        "n = int(input())\n",
        "\n",
        "# Loop through all integers from 0 to n-1\n",
        "for i in range(n):\n",
        "    print(i ** 2)\n"
      ]
    },
    {
      "cell_type": "markdown",
      "metadata": {
        "id": "qq_4UdQX8hku"
      },
      "source": [
        "Write a function\n",
        "An extra day is added to the calendar almost every four years as February 29, and the day is called a leap day. It corrects the calendar for the fact that our planet takes approximately 365.25 days to orbit the sun. A leap year contains a leap day.\n",
        "\n",
        "In the Gregorian calendar, three conditions are used to identify leap years:\n",
        "\n",
        "The year can be evenly divided by 4, is a leap year, unless:\n",
        "The year can be evenly divided by 100, it is NOT a leap year, unless:\n",
        "The year is also evenly divisible by 400. Then it is a leap year.\n",
        "This means that in the Gregorian calendar, the years 2000 and 2400 are leap years, while 1800, 1900, 2100, 2200, 2300 and 2500 are NOT leap years. Source\n",
        "\n",
        "Task\n",
        "\n",
        "Given a year, determine whether it is a leap year. If it is a leap year, return the Boolean True, otherwise return False.\n",
        "\n",
        "Note that the code stub provided reads from STDIN and passes arguments to the is_leap function. It is only necessary to complete the is_leap function."
      ]
    },
    {
      "cell_type": "code",
      "execution_count": 5,
      "metadata": {},
      "outputs": [],
      "source": [
        "def is_leap(year):\n",
        "    leap = False\n",
        "    if (year % 4 == 0) and (year % 100 != 0 or year % 400 == 0):\n",
        "        return True\n",
        "    # Write your logic here\n",
        "    \n",
        "    return leap\n",
        "\n"
      ]
    },
    {
      "cell_type": "markdown",
      "metadata": {
        "id": "q5tUgr588ph5"
      },
      "source": [
        "Print Function\n",
        "The included code stub will read an integer,n, from STDIN.\n",
        "\n",
        "Without using any string methods, try to print the following:\n",
        "123...n\n",
        "\n",
        "\n"
      ]
    },
    {
      "cell_type": "code",
      "execution_count": 6,
      "metadata": {},
      "outputs": [
        {
          "name": "stdout",
          "output_type": "stream",
          "text": [
            "12"
          ]
        }
      ],
      "source": [
        "n = int(input())\n",
        "\n",
        "for i in range(1, n + 1):\n",
        "    print(i, end='')\n"
      ]
    },
    {
      "cell_type": "markdown",
      "metadata": {
        "id": "iUcFVt0-8sKw"
      },
      "source": [
        "List Comprehensions\n",
        "Let's learn about list comprehensions! You are given three integers x , y and z  representing the dimensions of a cuboid along with an integer n.\n",
        "Print a list of all possible coordinates given by (i,j,k)  on a 3D grid where the sum of  i+j+k s not equal to n Here,"
      ]
    },
    {
      "cell_type": "code",
      "execution_count": 8,
      "metadata": {},
      "outputs": [
        {
          "name": "stdout",
          "output_type": "stream",
          "text": [
            "[[0, 0, 0], [0, 0, 1], [0, 0, 2], [0, 0, 3], [0, 0, 4], [0, 1, 0], [0, 1, 1], [0, 1, 2], [0, 1, 3], [0, 1, 5], [0, 2, 0], [0, 2, 1], [0, 2, 2], [0, 2, 4], [0, 2, 5], [0, 3, 0], [0, 3, 1], [0, 3, 3], [0, 3, 4], [0, 3, 5], [0, 4, 0], [0, 4, 2], [0, 4, 3], [0, 4, 4], [0, 4, 5], [1, 0, 0], [1, 0, 1], [1, 0, 2], [1, 0, 3], [1, 0, 5], [1, 1, 0], [1, 1, 1], [1, 1, 2], [1, 1, 4], [1, 1, 5], [1, 2, 0], [1, 2, 1], [1, 2, 3], [1, 2, 4], [1, 2, 5], [1, 3, 0], [1, 3, 2], [1, 3, 3], [1, 3, 4], [1, 3, 5], [1, 4, 1], [1, 4, 2], [1, 4, 3], [1, 4, 4], [1, 4, 5], [2, 0, 0], [2, 0, 1], [2, 0, 2], [2, 0, 4], [2, 0, 5], [2, 1, 0], [2, 1, 1], [2, 1, 3], [2, 1, 4], [2, 1, 5], [2, 2, 0], [2, 2, 2], [2, 2, 3], [2, 2, 4], [2, 2, 5], [2, 3, 1], [2, 3, 2], [2, 3, 3], [2, 3, 4], [2, 3, 5], [2, 4, 0], [2, 4, 1], [2, 4, 2], [2, 4, 3], [2, 4, 4], [2, 4, 5], [3, 0, 0], [3, 0, 1], [3, 0, 3], [3, 0, 4], [3, 0, 5], [3, 1, 0], [3, 1, 2], [3, 1, 3], [3, 1, 4], [3, 1, 5], [3, 2, 1], [3, 2, 2], [3, 2, 3], [3, 2, 4], [3, 2, 5], [3, 3, 0], [3, 3, 1], [3, 3, 2], [3, 3, 3], [3, 3, 4], [3, 3, 5], [3, 4, 0], [3, 4, 1], [3, 4, 2], [3, 4, 3], [3, 4, 4], [3, 4, 5], [4, 0, 0], [4, 0, 2], [4, 0, 3], [4, 0, 4], [4, 0, 5], [4, 1, 1], [4, 1, 2], [4, 1, 3], [4, 1, 4], [4, 1, 5], [4, 2, 0], [4, 2, 1], [4, 2, 2], [4, 2, 3], [4, 2, 4], [4, 2, 5], [4, 3, 0], [4, 3, 1], [4, 3, 2], [4, 3, 3], [4, 3, 4], [4, 3, 5], [4, 4, 0], [4, 4, 1], [4, 4, 2], [4, 4, 3], [4, 4, 4], [4, 4, 5], [5, 0, 1], [5, 0, 2], [5, 0, 3], [5, 0, 4], [5, 0, 5], [5, 1, 0], [5, 1, 1], [5, 1, 2], [5, 1, 3], [5, 1, 4], [5, 1, 5], [5, 2, 0], [5, 2, 1], [5, 2, 2], [5, 2, 3], [5, 2, 4], [5, 2, 5], [5, 3, 0], [5, 3, 1], [5, 3, 2], [5, 3, 3], [5, 3, 4], [5, 3, 5], [5, 4, 0], [5, 4, 1], [5, 4, 2], [5, 4, 3], [5, 4, 4], [5, 4, 5], [6, 0, 0], [6, 0, 1], [6, 0, 2], [6, 0, 3], [6, 0, 4], [6, 0, 5], [6, 1, 0], [6, 1, 1], [6, 1, 2], [6, 1, 3], [6, 1, 4], [6, 1, 5], [6, 2, 0], [6, 2, 1], [6, 2, 2], [6, 2, 3], [6, 2, 4], [6, 2, 5], [6, 3, 0], [6, 3, 1], [6, 3, 2], [6, 3, 3], [6, 3, 4], [6, 3, 5], [6, 4, 0], [6, 4, 1], [6, 4, 2], [6, 4, 3], [6, 4, 4], [6, 4, 5], [7, 0, 0], [7, 0, 1], [7, 0, 2], [7, 0, 3], [7, 0, 4], [7, 0, 5], [7, 1, 0], [7, 1, 1], [7, 1, 2], [7, 1, 3], [7, 1, 4], [7, 1, 5], [7, 2, 0], [7, 2, 1], [7, 2, 2], [7, 2, 3], [7, 2, 4], [7, 2, 5], [7, 3, 0], [7, 3, 1], [7, 3, 2], [7, 3, 3], [7, 3, 4], [7, 3, 5], [7, 4, 0], [7, 4, 1], [7, 4, 2], [7, 4, 3], [7, 4, 4], [7, 4, 5], [8, 0, 0], [8, 0, 1], [8, 0, 2], [8, 0, 3], [8, 0, 4], [8, 0, 5], [8, 1, 0], [8, 1, 1], [8, 1, 2], [8, 1, 3], [8, 1, 4], [8, 1, 5], [8, 2, 0], [8, 2, 1], [8, 2, 2], [8, 2, 3], [8, 2, 4], [8, 2, 5], [8, 3, 0], [8, 3, 1], [8, 3, 2], [8, 3, 3], [8, 3, 4], [8, 3, 5], [8, 4, 0], [8, 4, 1], [8, 4, 2], [8, 4, 3], [8, 4, 4], [8, 4, 5], [9, 0, 0], [9, 0, 1], [9, 0, 2], [9, 0, 3], [9, 0, 4], [9, 0, 5], [9, 1, 0], [9, 1, 1], [9, 1, 2], [9, 1, 3], [9, 1, 4], [9, 1, 5], [9, 2, 0], [9, 2, 1], [9, 2, 2], [9, 2, 3], [9, 2, 4], [9, 2, 5], [9, 3, 0], [9, 3, 1], [9, 3, 2], [9, 3, 3], [9, 3, 4], [9, 3, 5], [9, 4, 0], [9, 4, 1], [9, 4, 2], [9, 4, 3], [9, 4, 4], [9, 4, 5], [10, 0, 0], [10, 0, 1], [10, 0, 2], [10, 0, 3], [10, 0, 4], [10, 0, 5], [10, 1, 0], [10, 1, 1], [10, 1, 2], [10, 1, 3], [10, 1, 4], [10, 1, 5], [10, 2, 0], [10, 2, 1], [10, 2, 2], [10, 2, 3], [10, 2, 4], [10, 2, 5], [10, 3, 0], [10, 3, 1], [10, 3, 2], [10, 3, 3], [10, 3, 4], [10, 3, 5], [10, 4, 0], [10, 4, 1], [10, 4, 2], [10, 4, 3], [10, 4, 4], [10, 4, 5]]\n"
          ]
        }
      ],
      "source": [
        "x = int(input())\n",
        "y = int(input())\n",
        "z = int(input())\n",
        "n = int(input())\n",
        "\n",
        "result = [[i, j, k] for i in range(x + 1)\n",
        "                    for j in range(y + 1)\n",
        "                    for k in range(z + 1)\n",
        "                    if i + j + k != n]\n",
        "\n",
        "print(result)\n"
      ]
    },
    {
      "cell_type": "markdown",
      "metadata": {
        "id": "EZBYYxRR8ucZ"
      },
      "source": [
        "Find the Runner-Up Score!\n",
        "Given the participants' score sheet for your University Sports Day, you are required to find the runner-up score. You are given n scores. Store them in a list and find the score of the runner-up."
      ]
    },
    {
      "cell_type": "code",
      "execution_count": 19,
      "metadata": {},
      "outputs": [
        {
          "name": "stdout",
          "output_type": "stream",
          "text": [
            "5\n"
          ]
        }
      ],
      "source": [
        "n = int(input())\n",
        "scores = list(map(int, input().split()))\n",
        "\n",
        "# Remove duplicates, sort in descending order, and pick the second element\n",
        "unique_scores = list(set(scores))\n",
        "unique_scores.sort(reverse=True)\n",
        "\n",
        "print(unique_scores[1])\n"
      ]
    },
    {
      "cell_type": "markdown",
      "metadata": {
        "id": "hBepD0YT8yuj"
      },
      "source": [
        "Nested Lists\n",
        "Given the names and grades for each student in a class of  students, store them in a nested list and print the name(s) of any N student(s) having the second lowest grade."
      ]
    },
    {
      "cell_type": "code",
      "execution_count": 20,
      "metadata": {},
      "outputs": [
        {
          "name": "stdout",
          "output_type": "stream",
          "text": [
            "0.5\n",
            "2.5\n",
            "2.5\n"
          ]
        }
      ],
      "source": [
        "students = []\n",
        "\n",
        "# Read number of students\n",
        "n = int(input())\n",
        "\n",
        "# Read student records\n",
        "for _ in range(n):\n",
        "    name = input()\n",
        "    score = float(input())\n",
        "    students.append([name, score])\n",
        "\n",
        "# Extract all scores and find second lowest\n",
        "scores = sorted(set([s[1] for s in students]))\n",
        "second_lowest = scores[1]\n",
        "\n",
        "# Get names with the second lowest score\n",
        "result = [s[0] for s in students if s[1] == second_lowest]\n",
        "\n",
        "# Sort and print names\n",
        "for name in sorted(result):\n",
        "    print(name)\n"
      ]
    },
    {
      "cell_type": "markdown",
      "metadata": {
        "id": "ntjLb-5C82I1"
      },
      "source": [
        "Finding the percentage\n",
        "The provided code stub will read in a dictionary containing key/value pairs of name:[marks] for a list of students. Print the average of the marks array for the student name provided, showing 2 places after the decimal."
      ]
    },
    {
      "cell_type": "code",
      "execution_count": 22,
      "metadata": {},
      "outputs": [
        {
          "name": "stdout",
          "output_type": "stream",
          "text": [
            "83.00\n"
          ]
        }
      ],
      "source": [
        "# Read number of students\n",
        "n = int(input())\n",
        "\n",
        "# Create a dictionary to store name: [marks]\n",
        "student_marks = {}\n",
        "for _ in range(n):\n",
        "    parts = input().split()\n",
        "    name = parts[0]\n",
        "    scores = list(map(float, parts[1:]))\n",
        "    student_marks[name] = scores\n",
        "\n",
        "# Read the name to query\n",
        "query_name = input()\n",
        "\n",
        "# Compute average and print\n",
        "avg = sum(student_marks[query_name]) / len(student_marks[query_name])\n",
        "print(f\"{avg:.2f}\")\n"
      ]
    },
    {
      "cell_type": "markdown",
      "metadata": {
        "id": "83tfWnxq-aXp"
      },
      "source": [
        "Lists\n",
        "Consider a list (list = []). You can perform the following commands:\n",
        "insert i e: Insert integer  at position i.\n",
        "print: Print the list.\n",
        "remove e: Delete the first occurrence of integer e.\n",
        "append e: Insert integer  at the end of the list.\n",
        "sort: Sort the list.\n",
        "pop: Pop the last element from the list.\n",
        "reverse: Reverse the list.\n",
        "Initialize your list and read in the value of n followed by n lines of commands where each command will be of the  types listed above. Iterate through each command in order and perform the corresponding operation on your list."
      ]
    },
    {
      "cell_type": "code",
      "execution_count": 23,
      "metadata": {},
      "outputs": [
        {
          "name": "stdout",
          "output_type": "stream",
          "text": [
            "[5, 7, 10]\n",
            "[3, 5, 10]\n"
          ]
        }
      ],
      "source": [
        "if __name__ == '__main__':\n",
        "    N = int(input())  # Read number of commands\n",
        "    lst = []\n",
        "    \n",
        "    for _ in range(N):\n",
        "        command = input().strip().split()\n",
        "\n",
        "        if command[0] == \"insert\":\n",
        "            lst.insert(int(command[1]), int(command[2]))\n",
        "        elif command[0] == \"print\":\n",
        "            print(lst)\n",
        "        elif command[0] == \"remove\":\n",
        "            lst.remove(int(command[1]))\n",
        "        elif command[0] == \"append\":\n",
        "            lst.append(int(command[1]))\n",
        "        elif command[0] == \"sort\":\n",
        "            lst.sort()\n",
        "        elif command[0] == \"pop\":\n",
        "            lst.pop()\n",
        "        elif command[0] == \"reverse\":\n",
        "            lst.reverse()\n"
      ]
    },
    {
      "cell_type": "markdown",
      "metadata": {
        "id": "nqPKKvMB-dv1"
      },
      "source": [
        "Matrix Script\n",
        "Neo has a complex matrix script. The matrix script is a N  X M grid of strings. It consists of alphanumeric characters, spaces and symbols (!,@,#,$,%,&)."
      ]
    },
    {
      "cell_type": "code",
      "execution_count": 24,
      "metadata": {},
      "outputs": [
        {
          "name": "stdout",
          "output_type": "stream",
          "text": [
            "This is Matrix#  %!\n"
          ]
        }
      ],
      "source": [
        "import re\n",
        "\n",
        "n, m = map(int, input().split())\n",
        "matrix = [input() for _ in range(n)]\n",
        "\n",
        "decoded = ''.join([matrix[i][j] for j in range(m) for i in range(n)])\n",
        "cleaned = re.sub(r'(?<=\\w)([^\\w\\d]+)(?=\\w)', ' ', decoded)\n",
        "\n",
        "print(cleaned)\n"
      ]
    },
    {
      "cell_type": "markdown",
      "metadata": {
        "id": "eJBsRqgD-gPE"
      },
      "source": [
        "Re.start() & Re.end()\n",
        "These expressions return the indices of the start and end of the substring matched by the group."
      ]
    },
    {
      "cell_type": "code",
      "execution_count": 25,
      "metadata": {},
      "outputs": [
        {
          "name": "stdout",
          "output_type": "stream",
          "text": [
            "(0, 1)\n"
          ]
        }
      ],
      "source": [
        "import re\n",
        "\n",
        "S = input()\n",
        "k = input()\n",
        "\n",
        "pattern = f\"(?={re.escape(k)})\" \n",
        "matches = list(re.finditer(pattern, S))\n",
        "\n",
        "if matches:\n",
        "    for match in matches:\n",
        "        start = match.start()\n",
        "        print((start, start + len(k) - 1))\n",
        "\n",
        "else:\n",
        "    print(\"(-1, -1)\")\n"
      ]
    },
    {
      "cell_type": "markdown",
      "metadata": {
        "id": "2IrySZdJ-qR3"
      },
      "source": [
        "Regex Substitution\n",
        "The re.sub() tool (sub stands for substitution) evaluates a pattern and, for each valid match, it calls a method (or lambda).\n",
        "The method is called for all matches and can be used to modify strings in different ways.\n",
        "The re.sub() method returns the modified string as an output."
      ]
    },
    {
      "cell_type": "code",
      "execution_count": 26,
      "metadata": {},
      "outputs": [
        {
          "name": "stdout",
          "output_type": "stream",
          "text": [
            "4\n",
            "10\n",
            "2\n",
            "5\n",
            "9\n"
          ]
        }
      ],
      "source": [
        "import re\n",
        "\n",
        "n = int(input())\n",
        "lines = [input() for _ in range(n)]\n",
        "\n",
        "for line in lines:\n",
        "    line = re.sub(r'(?<= )&&(?= )', 'and', line)\n",
        "    line = re.sub(r'(?<= )\\|\\|(?= )', 'or', line)\n",
        "    print(line)\n"
      ]
    },
    {
      "cell_type": "markdown",
      "metadata": {},
      "source": [
        "Validating Roman Numerals\n",
        "You are given a string, and you have to validate whether it's a valid Roman numeral. If it is valid, print True. Otherwise, print False. Try to create a regular expression for a valid Roman numeral."
      ]
    },
    {
      "cell_type": "code",
      "execution_count": 27,
      "metadata": {},
      "outputs": [],
      "source": [
        "regex_pattern = r\"\"    # Do not delete 'r'.\n",
        "regex_pattern = r\"^M{0,3}(CM|CD|D?C{0,3})(XC|XL|L?X{0,3})(IX|IV|V?I{0,3})$\"\n",
        "\n"
      ]
    },
    {
      "cell_type": "markdown",
      "metadata": {},
      "source": [
        "Validating phone numbers\n",
        "Let's dive into the interesting topic of regular expressions! You are given some input, and you are required to check whether they are valid mobile numbers."
      ]
    },
    {
      "cell_type": "code",
      "execution_count": 28,
      "metadata": {},
      "outputs": [
        {
          "name": "stdout",
          "output_type": "stream",
          "text": [
            "NO\n",
            "NO\n",
            "NO\n",
            "NO\n",
            "NO\n",
            "NO\n",
            "NO\n",
            "NO\n",
            "NO\n",
            "NO\n"
          ]
        }
      ],
      "source": [
        "import re\n",
        "\n",
        "pattern = r\"^[789]\\d{9}$\"\n",
        "\n",
        "n = int(input())\n",
        "for _ in range(n):\n",
        "    number = input()\n",
        "    if re.match(pattern, number):\n",
        "        print(\"YES\")\n",
        "    else:\n",
        "        print(\"NO\")\n"
      ]
    },
    {
      "cell_type": "markdown",
      "metadata": {},
      "source": [
        "Validating and Parsing Email Addresses\n",
        "A valid email address meets the following criteria:\n",
        "\n",
        "It's composed of a username, domain name, and extension assembled in this format: username@domain.extension\n",
        "    The username starts with an English alphabetical character, and any subsequent characters consist of one or more of the following: alphanumeric characters, -,., and _.\n",
        "The domain and extension contain only English alphabetical characters.\n",
        "The extension is 1,2 or 3  characters in length."
      ]
    },
    {
      "cell_type": "code",
      "execution_count": 29,
      "metadata": {},
      "outputs": [],
      "source": [
        "import re\n",
        "import email.utils\n",
        "\n",
        "pattern = r'^[a-zA-Z][\\w\\.-]*@[a-zA-Z]+\\.[a-zA-Z]{1,3}$'\n",
        "\n",
        "n = int(input())\n",
        "\n",
        "for _ in range(n):\n",
        "    line = input()\n",
        "    name, email_addr = email.utils.parseaddr(line)\n",
        "    \n",
        "    if re.match(pattern, email_addr):\n",
        "        print(line)\n"
      ]
    },
    {
      "cell_type": "markdown",
      "metadata": {},
      "source": [
        "Hex Color Code\n",
        "CSS colors are defined using a hexadecimal (HEX) notation for the combination of Red, Green, and Blue color values (RGB)."
      ]
    },
    {
      "cell_type": "code",
      "execution_count": 30,
      "metadata": {},
      "outputs": [],
      "source": [
        "import re\n",
        "\n",
        "n = int(input())\n",
        "inside_block = False\n",
        "\n",
        "for _ in range(n):\n",
        "    line = input()\n",
        "\n",
        "    if '{' in line:\n",
        "        inside_block = True\n",
        "        continue\n",
        "\n",
        "    if '}' in line:\n",
        "        inside_block = False\n",
        "        continue\n",
        "\n",
        "    if inside_block:\n",
        "        matches = re.findall(r'(?<=[\\s:;,\\(])#[0-9a-fA-F]{3}(?:[0-9a-fA-F]{3})?\\b', line)\n",
        "        for match in matches:\n",
        "            print(match)\n"
      ]
    },
    {
      "cell_type": "markdown",
      "metadata": {},
      "source": [
        "HTML Parser - Part 1\n",
        "HTML\n",
        "Hypertext Markup Language is a standard markup language used for creating World Wide Web pages.\n",
        "\n",
        "Parsing\n",
        "Parsing is the process of syntactic analysis of a string of symbols. It involves resolving a string into its component parts and describing their syntactic roles.\n",
        "\n",
        "HTMLParser\n",
        "An HTMLParser instance is fed HTML data and calls handler methods when start tags, end tags, text, comments, and other markup elements are encountered."
      ]
    },
    {
      "cell_type": "code",
      "execution_count": 31,
      "metadata": {},
      "outputs": [],
      "source": [
        "from html.parser import HTMLParser\n",
        "\n",
        "class MyHTMLParser(HTMLParser):\n",
        "    def handle_starttag(self, tag, attrs):\n",
        "        print(f\"Start : {tag}\")\n",
        "        for name, value in attrs:\n",
        "            print(f\"-> {name} > {value if value is not None else 'None'}\")\n",
        "    \n",
        "    def handle_endtag(self, tag):\n",
        "        print(f\"End   : {tag}\")\n",
        "    \n",
        "    def handle_startendtag(self, tag, attrs):\n",
        "        print(f\"Empty : {tag}\")\n",
        "        for name, value in attrs:\n",
        "            print(f\"-> {name} > {value if value is not None else 'None'}\")\n",
        "\n",
        "n = int(input())\n",
        "html = \"\"\n",
        "for _ in range(n):\n",
        "    html += input() + '\\n'\n",
        "\n",
        "parser = MyHTMLParser()\n",
        "parser.feed(html)\n"
      ]
    },
    {
      "cell_type": "markdown",
      "metadata": {},
      "source": [
        "HTML Parser - Part 2\n",
        "*This section assumes that you understand the basics discussed in HTML Parser - Part 1\n",
        "\n",
        ".handle_comment(data)\n",
        "This method is called when a comment is encountered (e.g. <!--comment-->).\n",
        "The data argument is the content inside the comment tag:"
      ]
    },
    {
      "cell_type": "code",
      "execution_count": 32,
      "metadata": {},
      "outputs": [
        {
          "name": "stdout",
          "output_type": "stream",
          "text": [
            ">>> Data\n",
            "5\n",
            "9\n",
            "8\n",
            "9\n",
            "4\n",
            "\n"
          ]
        }
      ],
      "source": [
        "from html.parser import HTMLParser\n",
        "\n",
        "class MyHTMLParser(HTMLParser):\n",
        "    def handle_comment(self, data):\n",
        "        if '\\n' in data:\n",
        "            print(\">>> Multi-line Comment\")\n",
        "            print('\\n'.join(data.split('\\n')))\n",
        "        else:\n",
        "            print(\">>> Single-line Comment\")\n",
        "            print(data)\n",
        "\n",
        "    def handle_data(self, data):\n",
        "        if data.strip(): \n",
        "            print(\">>> Data\")\n",
        "            print(data)\n",
        "\n",
        "html = \"\"\n",
        "for _ in range(int(input())):\n",
        "    html += input() + '\\n'\n",
        "\n",
        "parser = MyHTMLParser()\n",
        "parser.feed(html)\n",
        "parser.close()\n"
      ]
    }
  ],
  "metadata": {
    "colab": {
      "collapsed_sections": [
        "JIX9shev5qME",
        "8FdTMZd45kyk",
        "Y1vNwmhg5_L3",
        "WVAot-Vr8F2U"
      ],
      "provenance": []
    },
    "kernelspec": {
      "display_name": "Python 3",
      "name": "python3"
    },
    "language_info": {
      "codemirror_mode": {
        "name": "ipython",
        "version": 3
      },
      "file_extension": ".py",
      "mimetype": "text/x-python",
      "name": "python",
      "nbconvert_exporter": "python",
      "pygments_lexer": "ipython3",
      "version": "3.10.0"
    }
  },
  "nbformat": 4,
  "nbformat_minor": 0
}
